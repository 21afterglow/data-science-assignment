{
 "cells": [
  {
   "cell_type": "markdown",
   "id": "4d6d1b9a",
   "metadata": {},
   "source": [
    "Q1. Create one variable containing following type of data:"
   ]
  },
  {
   "cell_type": "code",
   "execution_count": 1,
   "id": "830f7526",
   "metadata": {},
   "outputs": [],
   "source": [
    "#string\n",
    "var1 = \"Hello World\"\n",
    "var2 = [1, 2, 3, 'a', 'b', 'c']\n",
    "var3 = 12.34\n",
    "var4 = (1, 2, 3, 4)"
   ]
  },
  {
   "cell_type": "code",
   "execution_count": 2,
   "id": "94d102d5",
   "metadata": {},
   "outputs": [
    {
     "name": "stdout",
     "output_type": "stream",
     "text": [
      "<class 'str'>\n",
      "<class 'list'>\n",
      "<class 'float'>\n",
      "<class 'tuple'>\n"
     ]
    }
   ],
   "source": [
    "print( type(var1) )\n",
    "print( type(var2) )\n",
    "print( type(var3) )\n",
    "print( type(var4) )"
   ]
  },
  {
   "cell_type": "code",
   "execution_count": null,
   "id": "21905801",
   "metadata": {},
   "outputs": [],
   "source": []
  },
  {
   "cell_type": "markdown",
   "id": "376d9a62",
   "metadata": {},
   "source": [
    "Q2. Given are some following variables containing data:\n",
    "(i) var1 = ‘ ‘\n",
    "(ii) var2 = ‘[ DS , ML , Python]’\n",
    "(iii) var3 = [ ‘DS’ , ’ML’ , ‘Python’ ]\n",
    "(iv) var4 = 1."
   ]
  },
  {
   "cell_type": "markdown",
   "id": "1251b981",
   "metadata": {},
   "source": [
    "(i) String\n",
    "(ii) String\n",
    "(iii) List\n",
    "(iv) Float"
   ]
  },
  {
   "cell_type": "code",
   "execution_count": null,
   "id": "9f4dfcb4",
   "metadata": {},
   "outputs": [],
   "source": []
  },
  {
   "cell_type": "code",
   "execution_count": null,
   "id": "373e9f47",
   "metadata": {},
   "outputs": [],
   "source": [
    "Q3. Explain the use of the following operators using an example:\n",
    "(i) /\n",
    "(ii) %\n",
    "(iii) //\n",
    "(iv) **"
   ]
  },
  {
   "cell_type": "code",
   "execution_count": null,
   "id": "3050aa8a",
   "metadata": {},
   "outputs": [],
   "source": [
    "print( 9/2 ) #gives quotient of 9 divided by 2\n",
    "print( 9%2 ) #gives remainder of 9 divided by 2\n",
    "print( 9//2 ) #gives quotient of 9 divided by 2 but in int type \n",
    "print( 9**2 ) #gives value of 9 raised to 2"
   ]
  },
  {
   "cell_type": "code",
   "execution_count": null,
   "id": "d9a0efa1",
   "metadata": {},
   "outputs": [],
   "source": []
  },
  {
   "cell_type": "markdown",
   "id": "cdcd6425",
   "metadata": {},
   "source": [
    "Q4. Create a list of length 10 of your choice containing multiple types of data. Using for loop print the\n",
    "element and its data type."
   ]
  },
  {
   "cell_type": "code",
   "execution_count": null,
   "id": "3a79fa0e",
   "metadata": {},
   "outputs": [],
   "source": [
    "list = [1, 2, ('flower', 'fruit'), 4.5, 6.5, 'a', 'b', 'abc34fg', 'hello world',  ['c', 'd']]\n",
    "len(list)"
   ]
  },
  {
   "cell_type": "code",
   "execution_count": null,
   "id": "cd863668",
   "metadata": {},
   "outputs": [],
   "source": [
    "for item in list:\n",
    "    print(item)\n",
    "    print( type(item) )\n",
    "    print()"
   ]
  },
  {
   "cell_type": "code",
   "execution_count": null,
   "id": "9d3ebb7d",
   "metadata": {},
   "outputs": [],
   "source": []
  },
  {
   "cell_type": "markdown",
   "id": "9cf94421",
   "metadata": {},
   "source": [
    "Q5. Using a while loop, verify if the number A is purely divisible by number B and if so then how many\n",
    "times it can be divisible."
   ]
  },
  {
   "cell_type": "code",
   "execution_count": null,
   "id": "2c53b8e0",
   "metadata": {},
   "outputs": [],
   "source": [
    "var1 = int(input(\"Enter a number: \"))\n",
    "var2 = int(input(\"Enter a number: \"))\n",
    "\n",
    "flag=count=0\n",
    "\n",
    "while var1%var2==0:\n",
    "    flag=1\n",
    "    count+=1\n",
    "    var1=var1//var2\n",
    "    \n",
    "if flag==1:\n",
    "    print(var1, \"is divisible by\", var2, \",\" , count, \"times\")\n",
    "else:\n",
    "    print(var1, \"is not divisible by\", var2)\n",
    "    \n",
    "    "
   ]
  },
  {
   "cell_type": "code",
   "execution_count": null,
   "id": "6c2055b8",
   "metadata": {},
   "outputs": [],
   "source": []
  },
  {
   "cell_type": "markdown",
   "id": "687c0423",
   "metadata": {},
   "source": [
    "Q6. Create a list containing 25 int type data. Using for loop and if-else condition print if the element is\n",
    "divisible by 3 or not."
   ]
  },
  {
   "cell_type": "code",
   "execution_count": null,
   "id": "b4d1c304",
   "metadata": {},
   "outputs": [],
   "source": [
    "import random\n",
    "list = [random.randint(1, 100) for _ in range(25)]\n",
    "\n",
    "for item in list:\n",
    "    if item%3==0:\n",
    "        print(item, \"is divisble by 3\")\n",
    "    else:\n",
    "        print(item, \"is not divisble by 3\")"
   ]
  },
  {
   "cell_type": "code",
   "execution_count": null,
   "id": "ca69c0d4",
   "metadata": {},
   "outputs": [],
   "source": []
  },
  {
   "cell_type": "markdown",
   "id": "c503bbcd",
   "metadata": {},
   "source": [
    "Q7. What do you understand about mutable and immutable data types? Give examples for both showing\n",
    "this property."
   ]
  },
  {
   "cell_type": "code",
   "execution_count": null,
   "id": "8da912ad",
   "metadata": {},
   "outputs": [],
   "source": [
    "#Mutable data types: Data types which can be modified later on after its creation\n",
    " \n",
    "l = [1, 2, 3, 4]\n",
    "l[0] = 1.1  #changing first element of the list is possible\n",
    "print(l)"
   ]
  },
  {
   "cell_type": "code",
   "execution_count": null,
   "id": "5141f9aa",
   "metadata": {},
   "outputs": [],
   "source": [
    "#Immutable data types: Data types which cannot be modified after its creation\n",
    " \n",
    "t = (1, 2, 3, 4)\n",
    "t[0] = 1.1     #gives error\n",
    "print(t) "
   ]
  },
  {
   "cell_type": "code",
   "execution_count": null,
   "id": "e3373eb6",
   "metadata": {},
   "outputs": [],
   "source": []
  }
 ],
 "metadata": {
  "kernelspec": {
   "display_name": "Python 3 (ipykernel)",
   "language": "python",
   "name": "python3"
  },
  "language_info": {
   "codemirror_mode": {
    "name": "ipython",
    "version": 3
   },
   "file_extension": ".py",
   "mimetype": "text/x-python",
   "name": "python",
   "nbconvert_exporter": "python",
   "pygments_lexer": "ipython3",
   "version": "3.11.4"
  }
 },
 "nbformat": 4,
 "nbformat_minor": 5
}
